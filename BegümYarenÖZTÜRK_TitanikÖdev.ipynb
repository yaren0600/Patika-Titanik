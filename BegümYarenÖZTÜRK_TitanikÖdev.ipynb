{
 "cells": [
  {
   "cell_type": "code",
   "execution_count": 1,
   "id": "8476c1ac",
   "metadata": {},
   "outputs": [],
   "source": [
    "# Kütüphanelerin eklenmesi"
   ]
  },
  {
   "cell_type": "code",
   "execution_count": 2,
   "id": "e04a1dbf",
   "metadata": {},
   "outputs": [],
   "source": [
    "import pandas as pd"
   ]
  },
  {
   "cell_type": "markdown",
   "id": "4b656bb1",
   "metadata": {},
   "source": [
    "# Veri setini oku"
   ]
  },
  {
   "cell_type": "code",
   "execution_count": 6,
   "id": "e60b4233",
   "metadata": {},
   "outputs": [],
   "source": [
    "df_titanic = pd.read_csv(\"C:\\\\Users\\\\Begum\\\\OneDrive\\\\Masaüstü\\\\titanik_veriseti\\\\train.csv\")"
   ]
  },
  {
   "cell_type": "markdown",
   "id": "71f84418",
   "metadata": {},
   "source": [
    "# 1. Kazada ölenlerin yaş ortalaması"
   ]
  },
  {
   "cell_type": "code",
   "execution_count": 7,
   "id": "ec894f89",
   "metadata": {},
   "outputs": [
    {
     "name": "stdout",
     "output_type": "stream",
     "text": [
      "1. Kazada ölenlerin yaş ortalaması: 30.63\n"
     ]
    }
   ],
   "source": [
    "mean_age_dead = df_titanic[df_titanic['Survived'] == 0]['Age'].mean()\n",
    "print(\"1. Kazada ölenlerin yaş ortalaması:\", round(mean_age_dead, 2))"
   ]
  },
  {
   "cell_type": "markdown",
   "id": "9bb6ca2c",
   "metadata": {},
   "source": [
    "# 2. Kazada ölenlerin bilet fiyatlarının ortalaması ve medyanı"
   ]
  },
  {
   "cell_type": "code",
   "execution_count": 8,
   "id": "5e05ec33",
   "metadata": {},
   "outputs": [
    {
     "name": "stdout",
     "output_type": "stream",
     "text": [
      "2. Kazada ölenlerin bilet fiyatları:\n",
      "   Ortalama: 22.12\n",
      "   Medyan: 10.5\n"
     ]
    }
   ],
   "source": [
    "fare_dead = df_titanic[df_titanic['Survived'] == 0]['Fare']\n",
    "print(\"2. Kazada ölenlerin bilet fiyatları:\")\n",
    "print(\"   Ortalama:\", round(fare_dead.mean(), 2))\n",
    "print(\"   Medyan:\", round(fare_dead.median(), 2))"
   ]
  },
  {
   "cell_type": "markdown",
   "id": "20e80ef8",
   "metadata": {},
   "source": [
    "# 3. Kazada ölen erkeklerin yaş ortalaması"
   ]
  },
  {
   "cell_type": "code",
   "execution_count": 9,
   "id": "7f969882",
   "metadata": {},
   "outputs": [
    {
     "name": "stdout",
     "output_type": "stream",
     "text": [
      "3. Kazada ölen erkeklerin yaş ortalaması: 31.62\n"
     ]
    }
   ],
   "source": [
    "mean_age_dead_male = df_titanic[(df_titanic['Survived'] == 0) & (df_titanic['Sex'] == 'male')]['Age'].mean()\n",
    "print(\"3. Kazada ölen erkeklerin yaş ortalaması:\", round(mean_age_dead_male, 2))"
   ]
  },
  {
   "cell_type": "markdown",
   "id": "84668e13",
   "metadata": {},
   "source": [
    "# 4. Kazada ölen kadınların yaş ortalaması"
   ]
  },
  {
   "cell_type": "code",
   "execution_count": 10,
   "id": "c9c5df0c",
   "metadata": {},
   "outputs": [
    {
     "name": "stdout",
     "output_type": "stream",
     "text": [
      "4. Kazada ölen kadınların yaş ortalaması: 25.05\n"
     ]
    }
   ],
   "source": [
    "mean_age_dead_female = df_titanic[(df_titanic['Survived'] == 0) & (df_titanic['Sex'] == 'female')]['Age'].mean()\n",
    "print(\"4. Kazada ölen kadınların yaş ortalaması:\", round(mean_age_dead_female, 2))"
   ]
  },
  {
   "cell_type": "markdown",
   "id": "4b734edb",
   "metadata": {},
   "source": [
    "# 5. Kazadan kurtulanların yaş ortalaması"
   ]
  },
  {
   "cell_type": "code",
   "execution_count": 11,
   "id": "bf45cb0e",
   "metadata": {},
   "outputs": [
    {
     "name": "stdout",
     "output_type": "stream",
     "text": [
      "5. Kazadan kurtulanların yaş ortalaması: 28.34\n"
     ]
    }
   ],
   "source": [
    "mean_age_survived = df_titanic[df_titanic['Survived'] == 1]['Age'].mean()\n",
    "print(\"5. Kazadan kurtulanların yaş ortalaması:\", round(mean_age_survived, 2))"
   ]
  },
  {
   "cell_type": "markdown",
   "id": "11e36344",
   "metadata": {},
   "source": [
    "# 6. Kazadan kurtulanların bilet fiyatları ortalaması"
   ]
  },
  {
   "cell_type": "code",
   "execution_count": 12,
   "id": "bf376c7a",
   "metadata": {},
   "outputs": [
    {
     "name": "stdout",
     "output_type": "stream",
     "text": [
      "6. Kazadan kurtulanların bilet fiyatları ortalaması: 48.4\n"
     ]
    }
   ],
   "source": [
    "mean_fare_survived = df_titanic[df_titanic['Survived'] == 1]['Fare'].mean()\n",
    "print(\"6. Kazadan kurtulanların bilet fiyatları ortalaması:\", round(mean_fare_survived, 2))"
   ]
  },
  {
   "cell_type": "markdown",
   "id": "9f53740b",
   "metadata": {},
   "source": [
    "# 7. Kazadan kurtulan toplam kişi sayısı"
   ]
  },
  {
   "cell_type": "code",
   "execution_count": 13,
   "id": "e62023dc",
   "metadata": {},
   "outputs": [
    {
     "name": "stdout",
     "output_type": "stream",
     "text": [
      "7. Kazadan kurtulan toplam kişi sayısı: 342\n"
     ]
    }
   ],
   "source": [
    "num_survived = len(df_titanic[df_titanic['Survived'] == 1])\n",
    "print(\"7. Kazadan kurtulan toplam kişi sayısı:\", num_survived)"
   ]
  },
  {
   "cell_type": "markdown",
   "id": "b178ac36",
   "metadata": {},
   "source": [
    "# 8. 10 yaşından küçüklerin bilet fiyatlarının medyanı"
   ]
  },
  {
   "cell_type": "code",
   "execution_count": 14,
   "id": "fbebe39e",
   "metadata": {},
   "outputs": [
    {
     "name": "stdout",
     "output_type": "stream",
     "text": [
      "8. 10 yaş altı bireylerin bilet fiyatları medyanı: 27.0\n"
     ]
    }
   ],
   "source": [
    "median_fare_under10 = df_titanic[df_titanic['Age'] < 10]['Fare'].median()\n",
    "print(\"8. 10 yaş altı bireylerin bilet fiyatları medyanı:\", round(median_fare_under10, 2))"
   ]
  },
  {
   "cell_type": "markdown",
   "id": "00290ce7",
   "metadata": {},
   "source": [
    "# 9. 1., 2. ve 3. sınıf bilet fiyatları ortalama ve medyan karşılaştırması"
   ]
  },
  {
   "cell_type": "code",
   "execution_count": 15,
   "id": "d63ac842",
   "metadata": {},
   "outputs": [
    {
     "name": "stdout",
     "output_type": "stream",
     "text": [
      "9. Sınıflara göre bilet fiyatları:\n",
      "   1. sınıf - Ortalama: 84.15, Medyan: 60.29\n",
      "   2. sınıf - Ortalama: 20.66, Medyan: 14.25\n",
      "   3. sınıf - Ortalama: 13.68, Medyan: 8.05\n"
     ]
    }
   ],
   "source": [
    "print(\"9. Sınıflara göre bilet fiyatları:\")\n",
    "for cls in [1, 2, 3]:\n",
    "    class_fares = df_titanic[df_titanic['Pclass'] == cls]['Fare']\n",
    "    print(f\"   {cls}. sınıf - Ortalama: {round(class_fares.mean(), 2)}, Medyan: {round(class_fares.median(), 2)}\")"
   ]
  },
  {
   "cell_type": "markdown",
   "id": "efe69f78",
   "metadata": {},
   "source": [
    "# 10. Kazada ölen kadın ve erkek oranları karşılaştırması"
   ]
  },
  {
   "cell_type": "code",
   "execution_count": 16,
   "id": "a9bc4e9d",
   "metadata": {},
   "outputs": [
    {
     "name": "stdout",
     "output_type": "stream",
     "text": [
      "10. Cinsiyete göre ölme oranları:\n",
      "   Erkek ölme oranı: 0.81\n",
      "   Kadın ölme oranı: 0.26\n"
     ]
    }
   ],
   "source": [
    "num_males = df_titanic[df_titanic['Sex'] == 'male'].shape[0]\n",
    "num_females = df_titanic[df_titanic['Sex'] == 'female'].shape[0]\n",
    "num_dead_males = df_titanic[(df_titanic['Sex'] == 'male') & (df_titanic['Survived'] == 0)].shape[0]\n",
    "num_dead_females = df_titanic[(df_titanic['Sex'] == 'female') & (df_titanic['Survived'] == 0)].shape[0]\n",
    "\n",
    "male_death_ratio = num_dead_males / num_males\n",
    "female_death_ratio = num_dead_females / num_females\n",
    "\n",
    "print(\"10. Cinsiyete göre ölme oranları:\")\n",
    "print(\"   Erkek ölme oranı:\", round(male_death_ratio, 2))\n",
    "print(\"   Kadın ölme oranı:\", round(female_death_ratio, 2))"
   ]
  }
 ],
 "metadata": {
  "kernelspec": {
   "display_name": "Python 3",
   "language": "python",
   "name": "python3"
  },
  "language_info": {
   "codemirror_mode": {
    "name": "ipython",
    "version": 3
   },
   "file_extension": ".py",
   "mimetype": "text/x-python",
   "name": "python",
   "nbconvert_exporter": "python",
   "pygments_lexer": "ipython3",
   "version": "3.10.11"
  }
 },
 "nbformat": 4,
 "nbformat_minor": 5
}
